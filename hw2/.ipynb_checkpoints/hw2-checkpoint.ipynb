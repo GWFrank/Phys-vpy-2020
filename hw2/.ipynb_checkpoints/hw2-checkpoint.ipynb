{
 "cells": [
  {
   "cell_type": "code",
   "execution_count": 3,
   "metadata": {},
   "outputs": [
    {
     "name": "stdout",
     "output_type": "stream",
     "text": [
      "lifted ball number : 4\n"
     ]
    },
    {
     "data": {
      "text/html": [
       "<div id=\"glowscript\" class=\"glowscript\"></div>"
      ],
      "text/plain": [
       "<IPython.core.display.HTML object>"
      ]
     },
     "metadata": {},
     "output_type": "display_data"
    },
    {
     "data": {
      "application/javascript": [
       "if (typeof Jupyter !== \"undefined\") { window.__context = { glowscript_container: $(\"#glowscript\").removeAttr(\"id\")};}else{ element.textContent = ' ';}"
      ],
      "text/plain": [
       "<IPython.core.display.Javascript object>"
      ]
     },
     "metadata": {},
     "output_type": "display_data"
    },
    {
     "ename": "KeyboardInterrupt",
     "evalue": "",
     "output_type": "error",
     "traceback": [
      "\u001b[1;31m---------------------------------------------------------------------------\u001b[0m",
      "\u001b[1;31mKeyboardInterrupt\u001b[0m                         Traceback (most recent call last)",
      "\u001b[1;32m<ipython-input-3-fe2122ce1667>\u001b[0m in \u001b[0;36m<module>\u001b[1;34m\u001b[0m\n\u001b[0;32m     89\u001b[0m \u001b[1;33m\u001b[0m\u001b[0m\n\u001b[0;32m     90\u001b[0m     \u001b[1;32mfor\u001b[0m \u001b[0mi\u001b[0m \u001b[1;32min\u001b[0m \u001b[0mrange\u001b[0m\u001b[1;33m(\u001b[0m\u001b[1;36m5\u001b[0m\u001b[1;33m-\u001b[0m\u001b[1;36m1\u001b[0m\u001b[1;33m)\u001b[0m\u001b[1;33m:\u001b[0m\u001b[1;33m\u001b[0m\u001b[1;33m\u001b[0m\u001b[0m\n\u001b[1;32m---> 91\u001b[1;33m         \u001b[0mcollide\u001b[0m\u001b[1;33m(\u001b[0m\u001b[0mcradle\u001b[0m\u001b[1;33m[\u001b[0m\u001b[0mi\u001b[0m\u001b[1;33m]\u001b[0m\u001b[1;33m,\u001b[0m \u001b[0mcradle\u001b[0m\u001b[1;33m[\u001b[0m\u001b[0mi\u001b[0m\u001b[1;33m+\u001b[0m\u001b[1;36m1\u001b[0m\u001b[1;33m]\u001b[0m\u001b[1;33m)\u001b[0m\u001b[1;33m\u001b[0m\u001b[1;33m\u001b[0m\u001b[0m\n\u001b[0m\u001b[0;32m     92\u001b[0m \u001b[1;33m\u001b[0m\u001b[0m\n\u001b[0;32m     93\u001b[0m     \u001b[0mcradle_ke\u001b[0m \u001b[1;33m=\u001b[0m \u001b[1;36m0\u001b[0m\u001b[1;33m\u001b[0m\u001b[1;33m\u001b[0m\u001b[0m\n",
      "\u001b[1;32m<ipython-input-3-fe2122ce1667>\u001b[0m in \u001b[0;36mcollide\u001b[1;34m(pend1, pend2)\u001b[0m\n\u001b[0;32m     61\u001b[0m \u001b[1;33m\u001b[0m\u001b[0m\n\u001b[0;32m     62\u001b[0m \u001b[1;32mdef\u001b[0m \u001b[0mcollide\u001b[0m\u001b[1;33m(\u001b[0m\u001b[0mpend1\u001b[0m\u001b[1;33m,\u001b[0m \u001b[0mpend2\u001b[0m\u001b[1;33m)\u001b[0m\u001b[1;33m:\u001b[0m\u001b[1;33m\u001b[0m\u001b[1;33m\u001b[0m\u001b[0m\n\u001b[1;32m---> 63\u001b[1;33m     \u001b[1;32mif\u001b[0m \u001b[0mmag\u001b[0m\u001b[1;33m(\u001b[0m\u001b[0mpend1\u001b[0m\u001b[1;33m.\u001b[0m\u001b[0mball\u001b[0m\u001b[1;33m.\u001b[0m\u001b[0mpos\u001b[0m \u001b[1;33m-\u001b[0m \u001b[0mpend2\u001b[0m\u001b[1;33m.\u001b[0m\u001b[0mball\u001b[0m\u001b[1;33m.\u001b[0m\u001b[0mpos\u001b[0m\u001b[1;33m)\u001b[0m \u001b[1;33m<\u001b[0m \u001b[1;33m(\u001b[0m\u001b[0mpend1\u001b[0m\u001b[1;33m.\u001b[0m\u001b[0mball\u001b[0m\u001b[1;33m.\u001b[0m\u001b[0mradius\u001b[0m \u001b[1;33m+\u001b[0m \u001b[0mpend2\u001b[0m\u001b[1;33m.\u001b[0m\u001b[0mball\u001b[0m\u001b[1;33m.\u001b[0m\u001b[0mradius\u001b[0m\u001b[1;33m)\u001b[0m\u001b[1;33m:\u001b[0m\u001b[1;33m\u001b[0m\u001b[1;33m\u001b[0m\u001b[0m\n\u001b[0m\u001b[0;32m     64\u001b[0m         \u001b[0mcollide_perp\u001b[0m \u001b[1;33m=\u001b[0m \u001b[0mnorm\u001b[0m\u001b[1;33m(\u001b[0m\u001b[0mpend1\u001b[0m\u001b[1;33m.\u001b[0m\u001b[0mball\u001b[0m\u001b[1;33m.\u001b[0m\u001b[0mpos\u001b[0m \u001b[1;33m-\u001b[0m \u001b[0mpend2\u001b[0m\u001b[1;33m.\u001b[0m\u001b[0mball\u001b[0m\u001b[1;33m.\u001b[0m\u001b[0mpos\u001b[0m\u001b[1;33m)\u001b[0m\u001b[1;33m\u001b[0m\u001b[1;33m\u001b[0m\u001b[0m\n\u001b[0;32m     65\u001b[0m         \u001b[0mv1_perp\u001b[0m \u001b[1;33m=\u001b[0m \u001b[0mproj\u001b[0m\u001b[1;33m(\u001b[0m\u001b[0mpend1\u001b[0m\u001b[1;33m.\u001b[0m\u001b[0mvelocity\u001b[0m\u001b[1;33m,\u001b[0m \u001b[0mcollide_perp\u001b[0m\u001b[1;33m)\u001b[0m\u001b[1;33m\u001b[0m\u001b[1;33m\u001b[0m\u001b[0m\n",
      "\u001b[1;32m~\\anaconda3\\lib\\site-packages\\vpython\\vector.py\u001b[0m in \u001b[0;36mmag\u001b[1;34m(A)\u001b[0m\n\u001b[0;32m    267\u001b[0m \u001b[1;33m\u001b[0m\u001b[0m\n\u001b[0;32m    268\u001b[0m \u001b[1;32mdef\u001b[0m \u001b[0mmag\u001b[0m\u001b[1;33m(\u001b[0m\u001b[0mA\u001b[0m\u001b[1;33m)\u001b[0m\u001b[1;33m:\u001b[0m\u001b[1;33m\u001b[0m\u001b[1;33m\u001b[0m\u001b[0m\n\u001b[1;32m--> 269\u001b[1;33m     \u001b[1;32mreturn\u001b[0m \u001b[0mA\u001b[0m\u001b[1;33m.\u001b[0m\u001b[0mmag\u001b[0m\u001b[1;33m\u001b[0m\u001b[1;33m\u001b[0m\u001b[0m\n\u001b[0m\u001b[0;32m    270\u001b[0m \u001b[1;33m\u001b[0m\u001b[0m\n\u001b[0;32m    271\u001b[0m \u001b[1;32mdef\u001b[0m \u001b[0mmag2\u001b[0m\u001b[1;33m(\u001b[0m\u001b[0mA\u001b[0m\u001b[1;33m)\u001b[0m\u001b[1;33m:\u001b[0m\u001b[1;33m\u001b[0m\u001b[1;33m\u001b[0m\u001b[0m\n",
      "\u001b[1;31mKeyboardInterrupt\u001b[0m: "
     ]
    }
   ],
   "source": [
    "from vpython import *\n",
    "\n",
    "t = 0\n",
    "dt = 0.0001\n",
    "k = 150000\n",
    "g = vector(0, -9.8, 0)\n",
    "N = eval(input(\"lifted ball number : \"))\n",
    "mass = 1\n",
    "radius = 0.2\n",
    "rope_len = 2\n",
    "\n",
    "zero_grav_pot_h = -0.5*rope_len\n",
    "my_grey = vec(0.6, 0.6, 0.6)\n",
    "\n",
    "ke_ug_graph = graph(width=400, height=400, align=\"right\",\n",
    "                    title=\"<i>U<sub>g</sub></i> & <i>K.E.</i> - <i>t</i>\", xtitle=\"<i>t</i>\",\n",
    "                    foreground=color.black, background=vec(0.05, 0.05, 0.05),\n",
    "                    ymin=0)\n",
    "ke_curve = gcurve(graph=ke_ug_graph, color=color.blue,\n",
    "                  width=4, label=\"<i>K.E.</i>\")\n",
    "ug_curve = gcurve(graph=ke_ug_graph, color=color.green,\n",
    "                  width=4, label=\"<i>U</i><sub>g</sub>\")\n",
    "\n",
    "avg_ke_ug_graph = graph(width=400, height=400, align=\"right\",\n",
    "                        title=\"average <i>U</i><sub>g</sub></i> & <i>K.E.</i> - <i>t</i>\", xtitle=\"<i>t</i>\",\n",
    "                        foreground=color.black, background=vec(0.05, 0.05, 0.05),\n",
    "                        ymin=0)\n",
    "avg_ke_curve = gcurve(graph=avg_ke_ug_graph, color=color.blue,\n",
    "                      width=4, label=\"average <i>K.E.</i>\")\n",
    "avg_ug_curve = gcurve(graph=avg_ke_ug_graph, color=color.green,\n",
    "                      width=4, label=\"average <i>U</i><sub>g</sub>\")\n",
    "\n",
    "\n",
    "my_canvas = canvas(width=500, height=400, align=\"left\")\n",
    "\n",
    "\n",
    "class Pendulum():\n",
    "    def __init__(self, x_cord, ball_rad, mass, rope_len):\n",
    "        self.pivot = sphere(pos=vec(x_cord, 0.5*rope_len, 0), radius=0.2*ball_rad,\n",
    "                            color=my_grey, texture=textures.metal)\n",
    "        self.ball = sphere(pos=vec(x_cord, -0.5*rope_len, 0), radius=ball_rad,\n",
    "                           color=my_grey, texture=textures.metal)\n",
    "        self.rope = cylinder(pos=self.pivot.pos, axis=self.ball.pos - self.pivot.pos, radius=0.05*ball_rad,\n",
    "                             color=my_grey, texture=textures.metal)\n",
    "        self.mass = mass\n",
    "        self.rope_len = rope_len\n",
    "        self.velocity = vector(0, 0, 0)\n",
    "\n",
    "    def cal_pos(self, dt):\n",
    "        self.velocity += vec(g + (-k)*(mag(self.rope.axis) -\n",
    "                                       rope_len)*norm(self.rope.axis))*dt\n",
    "        self.ball.pos += self.velocity*dt\n",
    "        self.rope.axis = self.ball.pos - self.pivot.pos\n",
    "\n",
    "    def pull_pend(self, height):\n",
    "        self.ball.pos += vec(-sqrt(self.rope_len**2 -\n",
    "                                   (self.rope_len-height)**2), height, 0)\n",
    "        self.rope.axis = self.ball.pos - self.pivot.pos\n",
    "        # print(mag(self.rope.axis))\n",
    "\n",
    "\n",
    "def collide(pend1, pend2):\n",
    "    if mag(pend1.ball.pos - pend2.ball.pos) < (pend1.ball.radius + pend2.ball.radius):\n",
    "        collide_perp = norm(pend1.ball.pos - pend2.ball.pos)\n",
    "        v1_perp = proj(pend1.velocity, collide_perp)\n",
    "        v2_perp = proj(pend2.velocity, collide_perp)\n",
    "        pend1.velocity += -v1_perp + v2_perp\n",
    "        pend2.velocity += -v2_perp + v1_perp\n",
    "\n",
    "\n",
    "cradle = [Pendulum(2*radius*(i-2), radius, mass, rope_len) for i in range(5)]\n",
    "\n",
    "for i in range(N):\n",
    "    cradle[i].pull_pend(0.05)\n",
    "\n",
    "avg_ke = 0\n",
    "avg_ug = 0\n",
    "for i in cradle:\n",
    "    avg_ke += 0.5*i.mass*(mag(i.velocity)**2)\n",
    "    avg_ug += i.mass*mag(g)*(i.ball.pos.y - zero_grav_pot_h)\n",
    "\n",
    "while True:\n",
    "    rate(5000)\n",
    "    # rate(10000)\n",
    "\n",
    "    t += dt\n",
    "    for i in cradle:\n",
    "        i.cal_pos(dt)\n",
    "    \n",
    "    for i in range(5-1):\n",
    "        collide(cradle[i], cradle[i+1])\n",
    "\n",
    "    cradle_ke = 0\n",
    "    cradle_ug = 0\n",
    "    for i in cradle:\n",
    "        cradle_ke += 0.5*i.mass*(mag(i.velocity)**2)\n",
    "        cradle_ug += i.mass*mag(g)*(i.ball.pos.y - zero_grav_pot_h)\n",
    "    avg_ke = (t*avg_ke + dt*cradle_ke)/(t+dt)\n",
    "    avg_ug = (t*avg_ug + dt*cradle_ug)/(t+dt)\n",
    "\n",
    "    ke_curve.plot(t, cradle_ke)\n",
    "    ug_curve.plot(t, cradle_ug)\n",
    "    avg_ke_curve.plot(t, avg_ke)\n",
    "    avg_ug_curve.plot(t, avg_ug)\n"
   ]
  }
 ],
 "metadata": {
  "kernelspec": {
   "display_name": "Python 3",
   "language": "python",
   "name": "python3"
  },
  "language_info": {
   "codemirror_mode": {
    "name": "ipython",
    "version": 3
   },
   "file_extension": ".py",
   "mimetype": "text/x-python",
   "name": "python",
   "nbconvert_exporter": "python",
   "pygments_lexer": "ipython3",
   "version": "3.8.5"
  }
 },
 "nbformat": 4,
 "nbformat_minor": 2
}
